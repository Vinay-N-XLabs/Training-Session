{
 "cells": [
  {
   "cell_type": "code",
   "execution_count": 4,
   "id": "82ddb872-9f73-40be-9227-16f0d869778c",
   "metadata": {},
   "outputs": [],
   "source": [
    "moores_code = {\n",
    "    'A': '.-',        'B': '-...',      'C': '-.-.',     'D': '-..',     'E': '.',        \n",
    "    'F': '..-.',      'G': '--.',       'H': '....',     'I': '..',      'J': '.---',    \n",
    "    'K': '-.-',       'L': '.-..',      'M': '--',       'N': '-.',      'O': '---',     \n",
    "    'P': '.--.',      'Q': '--.-',      'R': '.-.',      'S': '...',     'T': '-',      \n",
    "    'U': '..-',       'V': '...-',      'W': '.--',      'X': '-..-',    'Y': '-.--',   \n",
    "    'Z': '--..',      '0': '-----',     '1': '.----',    '2': '..---',   '3': '...--',  \n",
    "    '4': '....-',     '5': '.....',     '6': '-....',    '7': '--...',    '8': '---..',  \n",
    "    '9': '----.',     ' ': ' / ',       '.': '.-.-.-',   ',': '--..--',  '?': '..--..', \n",
    "    \"'\": '.----.',    '!': '-.-.--',    '/': '-..-.',    '(': '-.--.',    ')': '-.--.-', \n",
    "    '&': '.-...',     ':': '---...',    ';': '-.-.-.',   '=': '-...-',   '+': '.-.-.',  \n",
    "    '-': '-....-',    '\"': '.-..-.',    '@': '.--.-.',   '_': '..--.-',   '`': '.----.', \n",
    "    '{': '-.--.',     '}': '-.--.-',    '[': '-.--.',    ']': '-.--.-',   '|': '-...-',  \n",
    "    '~': '.--.-.',    '±': '±',         '°': '°'\n",
    "}\n"
   ]
  },
  {
   "cell_type": "code",
   "execution_count": 2,
   "id": "3bdad533-fc9f-4aaf-a04f-083cc90908d6",
   "metadata": {},
   "outputs": [
    {
     "data": {
      "text/plain": [
       "'     '"
      ]
     },
     "execution_count": 2,
     "metadata": {},
     "output_type": "execute_result"
    }
   ],
   "source": [
    "moores_code.setdefault(\"default\",\"     \")"
   ]
  },
  {
   "cell_type": "code",
   "execution_count": null,
   "id": "2931a0b9-767e-475d-bd3e-9fc50d58c253",
   "metadata": {},
   "outputs": [],
   "source": [
    "moores_code"
   ]
  },
  {
   "cell_type": "code",
   "execution_count": 14,
   "id": "a0e9d902-f862-4737-a2a2-30d850459117",
   "metadata": {},
   "outputs": [],
   "source": [
    "def moores_ency(sent):\n",
    "    sent=sent.upper()\n",
    "    moores=[]\n",
    "    print(sent.strip())\n",
    "    for char in sent.strip(\" \"):\n",
    "        print(char)\n",
    "        if char in moores_code:\n",
    "            moores.append(moores_code[char])\n",
    "    return ' '.join(moores)\n",
    "        "
   ]
  },
  {
   "cell_type": "code",
   "execution_count": 13,
   "id": "f426cb19-dc2e-4da9-8ba8-d858e7615d16",
   "metadata": {},
   "outputs": [
    {
     "name": "stdout",
     "output_type": "stream",
     "text": [
      "h\n",
      "i\n",
      " \n",
      "h\n",
      "e\n",
      "l\n",
      "l\n",
      "o\n"
     ]
    }
   ],
   "source": [
    "for char in sent.strip():\n",
    "        print(char)"
   ]
  },
  {
   "cell_type": "code",
   "execution_count": 11,
   "id": "ed5e8ed6-19f5-488c-91af-d7704232b7f5",
   "metadata": {},
   "outputs": [
    {
     "name": "stdin",
     "output_type": "stream",
     "text": [
      "Give me a sentence I shall give you a moorse code for that sent hi hello\n"
     ]
    }
   ],
   "source": [
    "sent=input(\"Give me a sentence I shall give you a moorse code for that sent\")"
   ]
  },
  {
   "cell_type": "code",
   "execution_count": 15,
   "id": "7cef1f45-67b6-4e6b-ba85-c5b5ab67bbef",
   "metadata": {},
   "outputs": [
    {
     "name": "stdout",
     "output_type": "stream",
     "text": [
      "HI HELLO\n",
      "H\n",
      "I\n",
      " \n",
      "H\n",
      "E\n",
      "L\n",
      "L\n",
      "O\n",
      ".... ..  /  .... . .-.. .-.. ---\n"
     ]
    }
   ],
   "source": [
    "print(moores_ency(sent))"
   ]
  },
  {
   "cell_type": "code",
   "execution_count": 7,
   "id": "66de9031-4768-49d0-b0c5-20259548fb23",
   "metadata": {},
   "outputs": [
    {
     "name": "stdin",
     "output_type": "stream",
     "text": [
      "give me moores code ..  /  .- --  /  ...- .. -. .- -.--\n"
     ]
    }
   ],
   "source": [
    "code=input(\"give me moores code\")"
   ]
  },
  {
   "cell_type": "code",
   "execution_count": 8,
   "id": "dcb89c97-45ca-400f-b64e-d4c8fe9e3d09",
   "metadata": {},
   "outputs": [
    {
     "data": {
      "text/plain": [
       "['..', '', '/', '', '.-', '--', '', '/', '', '...-', '..', '-.', '.-', '-.--']"
      ]
     },
     "execution_count": 8,
     "metadata": {},
     "output_type": "execute_result"
    }
   ],
   "source": [
    "code.split(\" \")"
   ]
  },
  {
   "cell_type": "code",
   "execution_count": 9,
   "id": "1deec6d6-4e98-485f-a085-111b0cb5fd2a",
   "metadata": {},
   "outputs": [
    {
     "data": {
      "text/plain": [
       "dict_items([('A', '.-'), ('B', '-...'), ('C', '-.-.'), ('D', '-..'), ('E', '.'), ('F', '..-.'), ('G', '--.'), ('H', '....'), ('I', '..'), ('J', '.---'), ('K', '-.-'), ('L', '.-..'), ('M', '--'), ('N', '-.'), ('O', '---'), ('P', '.--.'), ('Q', '--.-'), ('R', '.-.'), ('S', '...'), ('T', '-'), ('U', '..-'), ('V', '...-'), ('W', '.--'), ('X', '-..-'), ('Y', '-.--'), ('Z', '--..'), ('0', '-----'), ('1', '.----'), ('2', '..---'), ('3', '...--'), ('4', '....-'), ('5', '.....'), ('6', '-....'), ('7', '--...'), ('8', '---..'), ('9', '----.'), (' ', ' / '), ('.', '.-.-.-'), (',', '--..--'), ('?', '..--..'), (\"'\", '.----.'), ('!', '-.-.--'), ('/', '-..-.'), ('(', '-.--.'), (')', '-.--.-'), ('&', '.-...'), (':', '---...'), (';', '-.-.-.'), ('=', '-...-'), ('+', '.-.-.'), ('-', '-....-'), ('\"', '.-..-.'), ('@', '.--.-.'), ('_', '..--.-'), ('`', '.----.'), ('{', '-.--.'), ('}', '-.--.-'), ('[', '-.--.'), (']', '-.--.-'), ('|', '-...-'), ('~', '.--.-.'), ('±', '±'), ('°', '°'), ('default', '     ')])"
      ]
     },
     "execution_count": 9,
     "metadata": {},
     "output_type": "execute_result"
    }
   ],
   "source": [
    "moores_code.items()"
   ]
  },
  {
   "cell_type": "code",
   "execution_count": 29,
   "id": "a0b56180-a2f0-4942-b726-d0e260ba8963",
   "metadata": {},
   "outputs": [
    {
     "name": "stdout",
     "output_type": "stream",
     "text": [
      "..\n",
      "/\n",
      ".-\n",
      "--\n",
      "/\n",
      "...-\n",
      "..\n",
      "-.\n",
      ".-\n",
      "-.--\n"
     ]
    }
   ],
   "source": [
    "for i in code.split():\n",
    "    print(i)"
   ]
  },
  {
   "cell_type": "code",
   "execution_count": 37,
   "id": "ae3569eb-fe79-4a56-9421-1aca96750769",
   "metadata": {},
   "outputs": [
    {
     "name": "stdin",
     "output_type": "stream",
     "text": [
      "Give me moores code ..  /  .- --  /  ...- .. -. .- -.--\n"
     ]
    },
    {
     "name": "stdout",
     "output_type": "stream",
     "text": [
      "\n"
     ]
    }
   ],
   "source": [
    "def moores_decy(code):\n",
    "    code=code.split()\n",
    "    code_sent=[]\n",
    "    temp=''\n",
    "    word=''\n",
    "    for i in code:\n",
    "        if i in moores_code.values():\n",
    "            for key, value in moores_code.items():\n",
    "                if i=='/':\n",
    "                    code_sent.append(temp)\n",
    "                    print(\"im in append\")\n",
    "                    temp=''\n",
    "                    break\n",
    "                elif i == value:\n",
    "                    temp=temp+key\n",
    "                    #print(temp)\n",
    "                    break\n",
    "   # code_sent=' '.join(code_word)\n",
    "    return ' '.join(code_sent)\n",
    "code=input(\"Give me moores code\")\n",
    "print(moores_decy(code))        "
   ]
  },
  {
   "cell_type": "code",
   "execution_count": 20,
   "id": "cde5c7ef-d0e0-4b28-9f75-80a92ff4c83a",
   "metadata": {},
   "outputs": [
    {
     "name": "stdin",
     "output_type": "stream",
     "text": [
      "Give me moores code ..  /  .- --  /  ...- .. -. .- -.--\n"
     ]
    },
    {
     "name": "stdout",
     "output_type": "stream",
     "text": [
      "I\n",
      "IA\n",
      "IAM\n",
      "IAMV\n",
      "IAMVI\n",
      "IAMVIN\n",
      "IAMVINA\n",
      "IAMVINAY\n",
      "\n"
     ]
    }
   ],
   "source": [
    "code=input(\"Give me moores code\")\n",
    "print(moores_decy(code))"
   ]
  },
  {
   "cell_type": "code",
   "execution_count": null,
   "id": "d3909da6-7278-406e-9243-3e7578268d94",
   "metadata": {},
   "outputs": [],
   "source": [
    "d={}"
   ]
  },
  {
   "cell_type": "code",
   "execution_count": null,
   "id": "f6f69a30-759d-4234-831d-88655d171d17",
   "metadata": {},
   "outputs": [],
   "source": [
    "d['a']='b'"
   ]
  },
  {
   "cell_type": "code",
   "execution_count": null,
   "id": "989c9236-3f49-4b72-84a6-f472220ba88b",
   "metadata": {},
   "outputs": [],
   "source": [
    "type(d)"
   ]
  },
  {
   "cell_type": "code",
   "execution_count": null,
   "id": "d950b3a6-8e75-4eae-a273-9aac6c3966db",
   "metadata": {},
   "outputs": [],
   "source": []
  },
  {
   "cell_type": "code",
   "execution_count": null,
   "id": "f4b12def-2658-4766-bbdb-00097361a8c2",
   "metadata": {},
   "outputs": [],
   "source": []
  }
 ],
 "metadata": {
  "kernelspec": {
   "display_name": "Python 3 (ipykernel)",
   "language": "python",
   "name": "python3"
  },
  "language_info": {
   "codemirror_mode": {
    "name": "ipython",
    "version": 3
   },
   "file_extension": ".py",
   "mimetype": "text/x-python",
   "name": "python",
   "nbconvert_exporter": "python",
   "pygments_lexer": "ipython3",
   "version": "3.12.3"
  }
 },
 "nbformat": 4,
 "nbformat_minor": 5
}
