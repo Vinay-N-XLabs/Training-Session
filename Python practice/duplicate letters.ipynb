{
 "cells": [
  {
   "cell_type": "code",
   "execution_count": 8,
   "id": "39340362-f336-44a1-b290-c14a0a84280b",
   "metadata": {},
   "outputs": [
    {
     "name": "stdin",
     "output_type": "stream",
     "text": [
      "Give me sentennce i give u if there are duplicates I am apple google\n"
     ]
    }
   ],
   "source": [
    "sent=input(\"Give me sentennce i give u if there are duplicates\")"
   ]
  },
  {
   "cell_type": "code",
   "execution_count": 9,
   "id": "baccbaba-0ba9-4f73-be62-539f06c72d0c",
   "metadata": {},
   "outputs": [],
   "source": [
    "sent=sent.split()\n",
    "from collections import Counter"
   ]
  },
  {
   "cell_type": "code",
   "execution_count": 19,
   "id": "f09290b4-d252-4b9e-a810-10a071ab9e0e",
   "metadata": {
    "scrolled": true
   },
   "outputs": [
    {
     "name": "stdout",
     "output_type": "stream",
     "text": [
      "Counter({'I': 1})\n",
      "Counter({'a': 1, 'm': 1})\n",
      "Counter({'p': 2, 'a': 1, 'l': 1, 'e': 1})\n",
      "Counter({'g': 2, 'o': 2, 'l': 1, 'e': 1})\n"
     ]
    }
   ],
   "source": [
    "for word in sent:\n",
    "    wordc=[]\n",
    "    for i in range(0,len(word)):\n",
    "        wordc.append(word[i])\n",
    "        count=Counter(wordc)\n",
    "    print(count)\n",
    "    \n",
    "    \n",
    "    "
   ]
  },
  {
   "cell_type": "code",
   "execution_count": 20,
   "id": "b9e8c131-8752-42d4-9758-a16cab207581",
   "metadata": {},
   "outputs": [
    {
     "data": {
      "text/plain": [
       "collections.Counter"
      ]
     },
     "execution_count": 20,
     "metadata": {},
     "output_type": "execute_result"
    }
   ],
   "source": [
    "type(count)"
   ]
  },
  {
   "cell_type": "code",
   "execution_count": 21,
   "id": "a2e541bc-6134-4f42-a155-c3e006b376bc",
   "metadata": {},
   "outputs": [
    {
     "ename": "SyntaxError",
     "evalue": "invalid syntax (1904468220.py, line 3)",
     "output_type": "error",
     "traceback": [
      "\u001b[1;36m  Cell \u001b[1;32mIn[21], line 3\u001b[1;36m\u001b[0m\n\u001b[1;33m    if any i.values()>2:\u001b[0m\n\u001b[1;37m           ^\u001b[0m\n\u001b[1;31mSyntaxError\u001b[0m\u001b[1;31m:\u001b[0m invalid syntax\n"
     ]
    }
   ],
   "source": [
    "for i in count:\n",
    "        print(i,i.values())\n",
    "        if any i.values()>2:\n",
    "            print(f'{i} Has Duplicates)"
   ]
  },
  {
   "cell_type": "code",
   "execution_count": null,
   "id": "dd69d4ed-e347-46ef-bb45-df4e9d67b0ba",
   "metadata": {},
   "outputs": [],
   "source": []
  }
 ],
 "metadata": {
  "kernelspec": {
   "display_name": "Python 3 (ipykernel)",
   "language": "python",
   "name": "python3"
  },
  "language_info": {
   "codemirror_mode": {
    "name": "ipython",
    "version": 3
   },
   "file_extension": ".py",
   "mimetype": "text/x-python",
   "name": "python",
   "nbconvert_exporter": "python",
   "pygments_lexer": "ipython3",
   "version": "3.12.3"
  }
 },
 "nbformat": 4,
 "nbformat_minor": 5
}
