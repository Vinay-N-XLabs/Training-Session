{
 "cells": [
  {
   "cell_type": "code",
   "execution_count": null,
   "id": "6fb8ff5d-e134-42b0-adf8-ec5c9b90722a",
   "metadata": {},
   "outputs": [],
   "source": [
    "data={'a':1,\n",
    "      'b':2,\n",
    "      'c':{'d':3,'e':4}\n",
    "     }"
   ]
  },
  {
   "cell_type": "code",
   "execution_count": null,
   "id": "0eba16ea-ba65-4205-b39b-6421395d152b",
   "metadata": {},
   "outputs": [],
   "source": [
    "data['c']['e']"
   ]
  },
  {
   "cell_type": "code",
   "execution_count": null,
   "id": "3a2356b8-0cc2-41c7-a57f-cb4c6ed0cd27",
   "metadata": {},
   "outputs": [],
   "source": [
    "data.get('c', {}).get('f', \"Not Available\")"
   ]
  },
  {
   "cell_type": "code",
   "execution_count": null,
   "id": "cf58e9b6-4f60-477a-a271-933e8420f231",
   "metadata": {},
   "outputs": [],
   "source": []
  },
  {
   "cell_type": "code",
   "execution_count": null,
   "id": "6d3f0562-3deb-4ef8-af38-58117205a140",
   "metadata": {},
   "outputs": [],
   "source": [
    "data={'car':{'name':'swift',\n",
    "             'year':'2020',\n",
    "             'color':['white','black']\n",
    "             },\n",
    "      'bus':{'name':'volvo',\n",
    "             'year':'2020',\n",
    "             'color':['white','brown']\n",
    "            }\n",
    "     }"
   ]
  },
  {
   "cell_type": "code",
   "execution_count": null,
   "id": "35c62512-83a2-4ed6-9971-f43f75ace7ac",
   "metadata": {},
   "outputs": [],
   "source": [
    "data"
   ]
  },
  {
   "cell_type": "code",
   "execution_count": null,
   "id": "4e40a617-c93c-449f-82af-157dc3de8ce5",
   "metadata": {},
   "outputs": [],
   "source": [
    "data['truck']={'name':'toyota hilux','year':'2023','color':['red','white']}"
   ]
  },
  {
   "cell_type": "code",
   "execution_count": null,
   "id": "eda2491e-a1c2-4c77-9453-aa8a2affdff3",
   "metadata": {},
   "outputs": [],
   "source": [
    "name=['swift','zen','baleno']"
   ]
  },
  {
   "cell_type": "code",
   "execution_count": null,
   "id": "c00faf14-6543-437c-8b41-064d2cb68d77",
   "metadata": {},
   "outputs": [],
   "source": [
    "model=['2011','2012','2013']"
   ]
  },
  {
   "cell_type": "code",
   "execution_count": null,
   "id": "bdd61a3e-fda0-4920-85e6-f6f623b5b54d",
   "metadata": {},
   "outputs": [],
   "source": [
    "name"
   ]
  },
  {
   "cell_type": "code",
   "execution_count": null,
   "id": "3b18afee-3750-4dc9-9747-17199fc26c78",
   "metadata": {},
   "outputs": [],
   "source": [
    "model"
   ]
  },
  {
   "cell_type": "code",
   "execution_count": null,
   "id": "d228fbb3-c967-4f13-b523-b2c9ef30c403",
   "metadata": {},
   "outputs": [],
   "source": []
  },
  {
   "cell_type": "code",
   "execution_count": null,
   "id": "125dc8ee-f0b2-4f68-88e8-59e2ba5a92aa",
   "metadata": {},
   "outputs": [],
   "source": [
    "cars={}"
   ]
  },
  {
   "cell_type": "code",
   "execution_count": null,
   "id": "ea35ff6b-abde-4a80-8dee-3eb7f8309c30",
   "metadata": {},
   "outputs": [],
   "source": [
    "for n,m in zip(name,model):\n",
    "    cars[n]=m"
   ]
  },
  {
   "cell_type": "code",
   "execution_count": null,
   "id": "29702bcf-0256-4f0e-a383-a9fbfcdb21eb",
   "metadata": {},
   "outputs": [],
   "source": [
    "cars"
   ]
  },
  {
   "cell_type": "code",
   "execution_count": null,
   "id": "a84afe5e-68d2-43be-97f0-5b14ad352496",
   "metadata": {},
   "outputs": [],
   "source": [
    "cars2={}"
   ]
  },
  {
   "cell_type": "code",
   "execution_count": null,
   "id": "e86bcfbb-a1fa-45bb-9fe0-459f5f611863",
   "metadata": {},
   "outputs": [],
   "source": [
    "cars2.keys()"
   ]
  },
  {
   "cell_type": "code",
   "execution_count": null,
   "id": "d1c3afee-2d1c-462b-9943-117ea489e8b1",
   "metadata": {},
   "outputs": [],
   "source": [
    "if (len(name)!=len(model)):\n",
    "    print(\"Invalid lists\")\n",
    "for i in range(0,len(name)):\n",
    "    cars2[name[i]]=model[i]"
   ]
  },
  {
   "cell_type": "code",
   "execution_count": null,
   "id": "92301baf-b5b4-4ded-ad66-bf1ec412d8f5",
   "metadata": {},
   "outputs": [],
   "source": [
    "cars2"
   ]
  },
  {
   "cell_type": "code",
   "execution_count": null,
   "id": "a584a4e5-cc08-4526-95cf-99fd3169598a",
   "metadata": {},
   "outputs": [],
   "source": [
    "data1={'A':{'w':'1',\n",
    "            'x':'2'\n",
    "           },\n",
    "       'B':{'y':'4'},\n",
    "       'C':{'z':'5'}\n",
    "      }"
   ]
  },
  {
   "cell_type": "code",
   "execution_count": null,
   "id": "bab7ace2-31ce-4555-899e-4390da9a4aaa",
   "metadata": {},
   "outputs": [],
   "source": [
    "data2={'A':{'w':'4',\n",
    "            'x':'3'\n",
    "           },\n",
    "       'B':{'y':'1'},\n",
    "       'C':{'z':'0'}\n",
    "      }"
   ]
  },
  {
   "cell_type": "code",
   "execution_count": null,
   "id": "eebdcbf1-c04c-4deb-99eb-ce289aeb65c6",
   "metadata": {},
   "outputs": [],
   "source": [
    "data1['A'].keys()"
   ]
  },
  {
   "cell_type": "code",
   "execution_count": null,
   "id": "100fa0b2-30a0-4fa3-8bdf-9bfc2f273d2b",
   "metadata": {},
   "outputs": [],
   "source": [
    "data3={'A':{'w':'4',\n",
    "            'x':'3'\n",
    "           },\n",
    "       'B':{'y':'1'},\n",
    "       'C':{'z':'0'}\n",
    "      }"
   ]
  },
  {
   "cell_type": "code",
   "execution_count": null,
   "id": "19afec61-c244-443d-9bf7-d925fb72b90a",
   "metadata": {},
   "outputs": [],
   "source": [
    "for keys1,keys2 in zip(data1.keys(),data2.keys()):\n",
    "    for keys3,keys4 in zip(data1[keys1].keys(),data2[keys2].keys()):\n",
    "        data3[keys1][keys3]=(int(data1[keys1][keys3])+int(data2[keys2][keys4]))\n",
    "print(data3)"
   ]
  },
  {
   "cell_type": "code",
   "execution_count": null,
   "id": "3c7b907b-7be9-421c-aad8-120074136e9d",
   "metadata": {},
   "outputs": [],
   "source": []
  },
  {
   "cell_type": "code",
   "execution_count": null,
   "id": "1c22f46a-d521-4d47-8cb0-dfef87f1a73f",
   "metadata": {},
   "outputs": [],
   "source": [
    "d1 = {\n",
    "    \"key1\": 5,\n",
    "    \"key2\": {\"key3\": 3, \"key4\": {\"key5\": 7, \"key6\": 10}},\n",
    "    \"key7\": 2,\n",
    "}"
   ]
  },
  {
   "cell_type": "code",
   "execution_count": null,
   "id": "6da21f74-28ec-4827-b122-ac539ad7a42c",
   "metadata": {},
   "outputs": [],
   "source": [
    "for key1 in md.keys():\n",
    "    print(md[key1])"
   ]
  },
  {
   "cell_type": "code",
   "execution_count": null,
   "id": "32389abc-901d-417b-8b67-1526489862ad",
   "metadata": {},
   "outputs": [],
   "source": [
    "\n",
    "    for keys in d1.keys():\n",
    "        if isinstance(keys, int):\n",
    "            val+=int(d1[keys])\n",
    "        \n",
    "    return (val+sum(d1[keys]))"
   ]
  },
  {
   "cell_type": "code",
   "execution_count": null,
   "id": "b9400f05-fd54-465e-876c-4a7da95491e6",
   "metadata": {},
   "outputs": [],
   "source": [
    "print(sum(d1))"
   ]
  },
  {
   "cell_type": "code",
   "execution_count": null,
   "id": "0dd2b7f6-ca73-4d8b-a44a-42571d9f62a8",
   "metadata": {},
   "outputs": [],
   "source": [
    "def sum(d1):\n",
    "    total=0\n",
    "    if isinstance(d1, int):\n",
    "        return(d1)\n",
    "    elif isinstance(d1, dict) :\n",
    "        for keys in d1:\n",
    "            total+=sum(d1[keys])\n",
    "    return total\n",
    "            "
   ]
  },
  {
   "cell_type": "code",
   "execution_count": null,
   "id": "c08527c2-f75f-45d8-b3c4-1d98e9d3d814",
   "metadata": {},
   "outputs": [],
   "source": [
    "print(sum(d1))"
   ]
  },
  {
   "cell_type": "code",
   "execution_count": null,
   "id": "3a7ecfe9-2262-46f1-bd80-37d4ba185da6",
   "metadata": {},
   "outputs": [],
   "source": [
    "def sum(d1):\n",
    "    total=0\n",
    "    if type(d1) is int:\n",
    "        return(d1)\n",
    "    elif type(d1) is dict :\n",
    "        for keys in d1:\n",
    "            total+=sum(d1[keys])\n",
    "    return total\n",
    "            "
   ]
  },
  {
   "cell_type": "code",
   "execution_count": null,
   "id": "6a8f6f28-2f32-4889-985d-35e15031e315",
   "metadata": {},
   "outputs": [],
   "source": [
    "print(sum(d1))"
   ]
  },
  {
   "cell_type": "code",
   "execution_count": null,
   "id": "88ad0b96-1354-455f-b34a-d4e5d7297ccd",
   "metadata": {},
   "outputs": [],
   "source": [
    "nd = {\n",
    "\n",
    "'A': {'B': 4, 'C': 10},\n",
    " 'D': {'E': 6, 'F': {'G': 12, 'H': 3,'L':7,'M':11}}, \n",
    "'I':7\n",
    "}"
   ]
  },
  {
   "cell_type": "code",
   "execution_count": null,
   "id": "f3fd0750-edb0-4d38-8ac8-ae567e9facc8",
   "metadata": {},
   "outputs": [],
   "source": [
    "nd"
   ]
  },
  {
   "cell_type": "code",
   "execution_count": null,
   "id": "8d4a2366-298d-4597-ad52-4b8d4695988e",
   "metadata": {},
   "outputs": [],
   "source": [
    "def removal(nd):\n",
    "    def popping(d1,d1key):\n",
    "        \n",
    "        if type(d1) is int:\n",
    "            if d1<5:\n",
    "                nd.pop(d1key)\n",
    "        else:\n",
    "            for keys,values in dic.items():\n",
    "                popping(values,keys)\n",
    "    return nd\n",
    "\n",
    "\n",
    "    "
   ]
  },
  {
   "cell_type": "code",
   "execution_count": null,
   "id": "58cb41f4-c03e-4213-b086-9f9c70007323",
   "metadata": {},
   "outputs": [],
   "source": [
    "removal(nd)"
   ]
  },
  {
   "cell_type": "code",
   "execution_count": null,
   "id": "cae7e479-80f6-4e28-91f4-30b4353f9133",
   "metadata": {},
   "outputs": [],
   "source": []
  },
  {
   "cell_type": "code",
   "execution_count": 39,
   "id": "2ac65d60-b091-4ba3-ac01-50ca19945110",
   "metadata": {},
   "outputs": [
    {
     "data": {
      "text/plain": [
       "{'A': {'C': 10},\n",
       " 'D': {'E': 6, 'F': {'G': 12, 'OO': 45, 'L': 7, 'M': 11}},\n",
       " 'I': 7}"
      ]
     },
     "execution_count": 39,
     "metadata": {},
     "output_type": "execute_result"
    }
   ],
   "source": [
    "nd = {\n",
    "\n",
    "'A': {'B': 4, 'C': 10},\n",
    " 'D': {'E': 6,  'F': {'G': 12, 'H': 3,'O':2,'OO':45,'L':7,'LL':1,'M':11}}, \n",
    "'I':7,\n",
    "'Q':3\n",
    "\n",
    "}\n",
    "\n",
    "def filter(d):\n",
    "    if not isinstance(d, dict):\n",
    "        return d\n",
    "    keys_to_remove = []\n",
    "    for key, value in d.items():\n",
    "        if isinstance(value, dict):\n",
    "            filter(value)\n",
    "        elif isinstance(value, int) and value < 5:\n",
    "            keys_to_remove.append(key)\n",
    "    for key in keys_to_remove:\n",
    "        del d[key]\n",
    "    \n",
    "    return d\n",
    "filter(nd)"
   ]
  },
  {
   "cell_type": "code",
   "execution_count": null,
   "id": "b76663cd-50e8-498f-977c-a7445b6d9537",
   "metadata": {},
   "outputs": [],
   "source": [
    "#merge nested dictionaries"
   ]
  },
  {
   "cell_type": "code",
   "execution_count": 40,
   "id": "53049ce8-bb9b-486e-9f74-17b6118c0046",
   "metadata": {},
   "outputs": [],
   "source": []
  },
  {
   "cell_type": "code",
   "execution_count": 59,
   "id": "965b51b3-e28a-4061-a2a7-66833b0dc96e",
   "metadata": {},
   "outputs": [],
   "source": [
    "m1={'A':{'B':1,'C':2},\n",
    "    'D':3,\n",
    "    'E':{'F':4}\n",
    "   }\n",
    "m2={'A':{'B':5,'C':6},\n",
    "    'D':7,\n",
    "    'E':{'G':8}\n",
    "   }\n",
    "result={'A':{'B':[1,5],'C':[2,6]},\n",
    "        'D':[3,7],\n",
    "        'E':{'F':4,'G':8}\n",
    "       }"
   ]
  },
  {
   "cell_type": "code",
   "execution_count": 58,
   "id": "0630bebb-f848-4bb9-9d45-b0ac306c0f58",
   "metadata": {},
   "outputs": [],
   "source": []
  },
  {
   "cell_type": "code",
   "execution_count": 60,
   "id": "451bcc8e-7eb4-4d06-b665-91a9759e7a48",
   "metadata": {},
   "outputs": [],
   "source": [
    "def merge(m1, m2):\n",
    "    for key, value in m2.items():\n",
    "        if key in m1:\n",
    "            if isinstance(m1[key], dict) and isinstance(value, dict):\n",
    "                merge(m1[key], value)\n",
    "            elif isinstance(m1[key], list):\n",
    "                if isinstance(value, list):\n",
    "                    m1[key].extend(value)\n",
    "                else:\n",
    "                    m1[key].append(value)\n",
    "            else:\n",
    "                if isinstance(value, list):\n",
    "                    m1[key] = [m1[key]] + value\n",
    "                else:\n",
    "                    m1[key] = [m1[key], value]\n",
    "        else:\n",
    "            if isinstance(value, dict):\n",
    "                m1[key] = {}\n",
    "                merge(m1[key], value)\n",
    "            else:\n",
    "                m1[key] = value\n",
    "    return m1"
   ]
  },
  {
   "cell_type": "code",
   "execution_count": 61,
   "id": "dbaf5005-50da-4621-bbd9-6cda5404af13",
   "metadata": {},
   "outputs": [
    {
     "data": {
      "text/plain": [
       "{'A': {'B': [1, 5], 'C': [2, 6]}, 'D': [3, 7], 'E': {'F': 4, 'G': 8}}"
      ]
     },
     "execution_count": 61,
     "metadata": {},
     "output_type": "execute_result"
    }
   ],
   "source": [
    "merge(m1,m2)"
   ]
  },
  {
   "cell_type": "code",
   "execution_count": null,
   "id": "28878386-4b2e-4424-b2ab-214936afdbc0",
   "metadata": {},
   "outputs": [],
   "source": []
  }
 ],
 "metadata": {
  "kernelspec": {
   "display_name": "Python 3 (ipykernel)",
   "language": "python",
   "name": "python3"
  },
  "language_info": {
   "codemirror_mode": {
    "name": "ipython",
    "version": 3
   },
   "file_extension": ".py",
   "mimetype": "text/x-python",
   "name": "python",
   "nbconvert_exporter": "python",
   "pygments_lexer": "ipython3",
   "version": "3.12.3"
  }
 },
 "nbformat": 4,
 "nbformat_minor": 5
}
