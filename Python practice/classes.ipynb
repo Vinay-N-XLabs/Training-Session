{
 "cells": [
  {
   "cell_type": "code",
   "execution_count": 18,
   "id": "6e1629d6-e71f-4b5d-83ca-01577b69d4e4",
   "metadata": {},
   "outputs": [],
   "source": [
    "class Employee:\n",
    "    def record(self,name,age,salary,position):\n",
    "        self.name = name\n",
    "        self.age=age\n",
    "        self.salary=salary\n",
    "        self.position=position\n",
    "    \n",
    "    def promote(self,position):\n",
    "        self.position=position\n",
    "        print(f'The employees new position is {self.position}')\n",
    "    def give_raise(self,raise_amt):\n",
    "        self.salary+=raise_amt\n",
    "        print(f'The employees new salary is {self.salary}')\n",
    "    def display(self):\n",
    "        print(f'Employee name: {self.name}')\n",
    "        print(f'Employee age: {self.age}')\n",
    "        print(f'Employee salary: {self.salary}')\n",
    "        print(f'Employee position: {self.position}')\n",
    "        "
   ]
  },
  {
   "cell_type": "code",
   "execution_count": 2,
   "id": "f29298a8-6db6-44cd-ad53-fe7fd8f1c33e",
   "metadata": {},
   "outputs": [],
   "source": [
    "vinay=Employee()"
   ]
  },
  {
   "cell_type": "code",
   "execution_count": 3,
   "id": "ec0e8918-c7d8-4b10-a9f0-ed343d5288f1",
   "metadata": {},
   "outputs": [],
   "source": [
    "vinay.record(\"Vinay\",21,10,\"asd\")"
   ]
  },
  {
   "cell_type": "code",
   "execution_count": 4,
   "id": "f5062386-0b05-4ff9-8855-e158de20178c",
   "metadata": {},
   "outputs": [
    {
     "name": "stdout",
     "output_type": "stream",
     "text": [
      "Employee name: Vinay\n",
      "Employee age: 21\n",
      "Employee salary: 10\n",
      "Employee position: asd\n"
     ]
    }
   ],
   "source": [
    "vinay.display()"
   ]
  },
  {
   "cell_type": "code",
   "execution_count": 5,
   "id": "774b9012-f4bf-476a-a88a-c63ee9ca7aae",
   "metadata": {},
   "outputs": [
    {
     "name": "stdout",
     "output_type": "stream",
     "text": [
      "The employees new position is manager\n"
     ]
    }
   ],
   "source": [
    "vinay.promote(\"manager\")"
   ]
  },
  {
   "cell_type": "code",
   "execution_count": 7,
   "id": "96729d5c-ae1f-4936-bfc5-03a520909456",
   "metadata": {},
   "outputs": [
    {
     "data": {
      "text/plain": [
       "10"
      ]
     },
     "execution_count": 7,
     "metadata": {},
     "output_type": "execute_result"
    }
   ],
   "source": [
    "vinay.salary"
   ]
  },
  {
   "cell_type": "code",
   "execution_count": 8,
   "id": "296e8f13-8fd9-4280-ac3c-41742e20471b",
   "metadata": {},
   "outputs": [
    {
     "name": "stdout",
     "output_type": "stream",
     "text": [
      "The employees new salary is 30\n"
     ]
    }
   ],
   "source": [
    "vinay.give_raise(20)"
   ]
  },
  {
   "cell_type": "code",
   "execution_count": 9,
   "id": "c0e4ba37-9558-45a8-8b5f-67ec77ef57a5",
   "metadata": {},
   "outputs": [
    {
     "name": "stdout",
     "output_type": "stream",
     "text": [
      "Employee name: Vinay\n",
      "Employee age: 21\n",
      "Employee salary: 30\n",
      "Employee position: manager\n"
     ]
    }
   ],
   "source": [
    "vinay.display()"
   ]
  },
  {
   "cell_type": "code",
   "execution_count": 10,
   "id": "0490865e-b406-4c58-bade-25c2e1f91567",
   "metadata": {},
   "outputs": [],
   "source": [
    "l1=[]"
   ]
  },
  {
   "cell_type": "code",
   "execution_count": 13,
   "id": "26bf3d45-d31b-4f17-8771-46ac97887af1",
   "metadata": {},
   "outputs": [
    {
     "name": "stdin",
     "output_type": "stream",
     "text": [
      "Enter the number of employees to fill 3\n"
     ]
    }
   ],
   "source": [
    "num=input(\"Enter the number of employees to fill\")"
   ]
  },
  {
   "cell_type": "code",
   "execution_count": 19,
   "id": "b6192cd7-3254-4a03-ba3f-9c681650382d",
   "metadata": {},
   "outputs": [
    {
     "ename": "SyntaxError",
     "evalue": "invalid syntax (4234494361.py, line 2)",
     "output_type": "error",
     "traceback": [
      "\u001b[1;36m  Cell \u001b[1;32mIn[19], line 2\u001b[1;36m\u001b[0m\n\u001b[1;33m    l1[i]=\u001b[0m\n\u001b[1;37m          ^\u001b[0m\n\u001b[1;31mSyntaxError\u001b[0m\u001b[1;31m:\u001b[0m invalid syntax\n"
     ]
    }
   ],
   "source": [
    "for i in num:\n",
    "    l1[i]=\n",
    "    name=input(\"Enter Employee name:\")\n",
    "    age=input(\"Enter Employee age : \")\n",
    "    salary=input(\"Enter Employee salary: \")\n",
    "    position=input(\"Enter employee position: \")\n",
    "    l1[1]=Employee.record(self,name,age,salary,position)"
   ]
  },
  {
   "cell_type": "code",
   "execution_count": null,
   "id": "7aa596d1-a15e-465d-b11c-cf5dc7972ad0",
   "metadata": {},
   "outputs": [],
   "source": []
  }
 ],
 "metadata": {
  "kernelspec": {
   "display_name": "Python 3 (ipykernel)",
   "language": "python",
   "name": "python3"
  },
  "language_info": {
   "codemirror_mode": {
    "name": "ipython",
    "version": 3
   },
   "file_extension": ".py",
   "mimetype": "text/x-python",
   "name": "python",
   "nbconvert_exporter": "python",
   "pygments_lexer": "ipython3",
   "version": "3.12.3"
  }
 },
 "nbformat": 4,
 "nbformat_minor": 5
}
