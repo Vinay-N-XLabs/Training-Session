{
 "cells": [
  {
   "cell_type": "code",
   "execution_count": 16,
   "id": "3d730f95-f53d-4554-8e73-764b6d81c828",
   "metadata": {},
   "outputs": [],
   "source": [
    "dict1={'fruits1':'apple','fruits2':'oranges','veg1':'onion','veg2':'tomato'}"
   ]
  },
  {
   "cell_type": "code",
   "execution_count": 2,
   "id": "1af33f0d-6213-48c7-8690-73a385b9c63c",
   "metadata": {},
   "outputs": [],
   "source": [
    "dict2={'fruits1':'apple','fruits2':'pineapple','veg1':'potato','veg2':'capsicum'}"
   ]
  },
  {
   "cell_type": "code",
   "execution_count": 7,
   "id": "ef7264e1-5b18-433c-9d66-612aaabaa5e2",
   "metadata": {},
   "outputs": [
    {
     "data": {
      "text/plain": [
       "dict"
      ]
     },
     "execution_count": 7,
     "metadata": {},
     "output_type": "execute_result"
    }
   ],
   "source": [
    "type(dict1)"
   ]
  },
  {
   "cell_type": "code",
   "execution_count": 8,
   "id": "945b7280-d96d-46bf-b921-4d9e2da80c73",
   "metadata": {},
   "outputs": [
    {
     "data": {
      "text/plain": [
       "dict"
      ]
     },
     "execution_count": 8,
     "metadata": {},
     "output_type": "execute_result"
    }
   ],
   "source": [
    "type(dict2)"
   ]
  },
  {
   "cell_type": "code",
   "execution_count": 38,
   "id": "de5ddfdd-ef61-4269-80d5-e689cc47fdea",
   "metadata": {},
   "outputs": [],
   "source": [
    "key1=dict1.keys()\n",
    "value1=dict1.values()"
   ]
  },
  {
   "cell_type": "code",
   "execution_count": 39,
   "id": "ae3d3522-188a-49a1-986f-5870c55c4281",
   "metadata": {},
   "outputs": [],
   "source": [
    "key2=dict2.keys()\n",
    "value2=dict2.values()"
   ]
  },
  {
   "cell_type": "code",
   "execution_count": 41,
   "id": "e0c831eb-01a8-48b7-a77d-0bee1e12de6b",
   "metadata": {},
   "outputs": [
    {
     "data": {
      "text/plain": [
       "dict_keys(['fruits1', 'fruits2', 'veg1', 'veg2'])"
      ]
     },
     "execution_count": 41,
     "metadata": {},
     "output_type": "execute_result"
    }
   ],
   "source": [
    "key1\n"
   ]
  },
  {
   "cell_type": "code",
   "execution_count": 42,
   "id": "a7877d79-54f1-49ab-a6b7-c77a5fb1887a",
   "metadata": {},
   "outputs": [
    {
     "data": {
      "text/plain": [
       "dict_values(['apple', 'oranges', 'onion', 'tomato'])"
      ]
     },
     "execution_count": 42,
     "metadata": {},
     "output_type": "execute_result"
    }
   ],
   "source": [
    "value1\n"
   ]
  },
  {
   "cell_type": "code",
   "execution_count": 43,
   "id": "fc952122-5469-418c-bd96-31edff50e316",
   "metadata": {},
   "outputs": [
    {
     "data": {
      "text/plain": [
       "dict_keys(['fruits1', 'fruits2', 'veg1', 'veg2'])"
      ]
     },
     "execution_count": 43,
     "metadata": {},
     "output_type": "execute_result"
    }
   ],
   "source": [
    "key2\n"
   ]
  },
  {
   "cell_type": "code",
   "execution_count": 44,
   "id": "1b136f9f-f456-44dd-98b0-ae7b04faf7d4",
   "metadata": {},
   "outputs": [
    {
     "data": {
      "text/plain": [
       "dict_values(['apple', 'pineapple', 'potato', 'capsicum'])"
      ]
     },
     "execution_count": 44,
     "metadata": {},
     "output_type": "execute_result"
    }
   ],
   "source": [
    "value2"
   ]
  },
  {
   "cell_type": "code",
   "execution_count": null,
   "id": "32dc9515-786f-4944-8861-130ce6536f6a",
   "metadata": {},
   "outputs": [],
   "source": []
  },
  {
   "cell_type": "code",
   "execution_count": 76,
   "id": "c0d29e95-930c-448d-a8f3-9cec8f0131c2",
   "metadata": {},
   "outputs": [
    {
     "name": "stdout",
     "output_type": "stream",
     "text": [
      "apple\n"
     ]
    }
   ],
   "source": [
    "result_dict={}\n",
    "result_dict['fruits']=[]\n",
    "result_dict['veg']=[]\n",
    "for i,j in dict1.items():\n",
    "    if(i==\"fruits1\" or i==\"fruits2\"):\n",
    "         if j in result_dict['fruits']:\n",
    "            print(j)\n",
    "            continue\n",
    "         else:\n",
    "            result_dict[\"fruits\"].append(j)\n",
    "    else:\n",
    "        if j in result_dict['fruits']:\n",
    "            print(j)\n",
    "            continue\n",
    "        result_dict[\"veg\"].append(j)\n",
    "for i,j in dict2.items():\n",
    "    if(i==\"fruits1\" or i==\"fruits2\"):\n",
    "        if j in result_dict['fruits']:\n",
    "            print(j)\n",
    "            continue\n",
    "        else:\n",
    "            result_dict[\"fruits\"].append(j)\n",
    "    else:\n",
    "        result_dict[\"veg\"].append(j)"
   ]
  },
  {
   "cell_type": "code",
   "execution_count": 77,
   "id": "f8ce5435-523b-4af7-8ca1-e172d2326973",
   "metadata": {},
   "outputs": [
    {
     "data": {
      "text/plain": [
       "{'fruits': ['apple', 'oranges', 'pineapple'],\n",
       " 'veg': ['onion', 'tomato', 'potato', 'capsicum']}"
      ]
     },
     "execution_count": 77,
     "metadata": {},
     "output_type": "execute_result"
    }
   ],
   "source": [
    "result_dict"
   ]
  },
  {
   "cell_type": "code",
   "execution_count": 58,
   "id": "7ca06b01-c2e4-4533-9292-d926fe1dcff9",
   "metadata": {},
   "outputs": [
    {
     "data": {
      "text/plain": [
       "dict"
      ]
     },
     "execution_count": 58,
     "metadata": {},
     "output_type": "execute_result"
    }
   ],
   "source": [
    "type(result_dict)"
   ]
  },
  {
   "cell_type": "code",
   "execution_count": 98,
   "id": "bfd78be2-4d3f-4d44-b2ae-02c2be3fa1c8",
   "metadata": {},
   "outputs": [],
   "source": [
    "def updation(dict1,dict2):\n",
    "    result_dict={}\n",
    "    result_dict['fruits']=[]\n",
    "    result_dict['veg']=[]\n",
    "    \n",
    "    for d in [dict1,dict2]:\n",
    "        for i,j in d.items():\n",
    "            if(i==\"fruits1\" or i==\"fruits2\"):\n",
    "                if j in result_dict['fruits']:\n",
    "                    print(j)\n",
    "                    continue\n",
    "                else:\n",
    "                    result_dict[\"fruits\"].append(j)\n",
    "            else:\n",
    "                if j in result_dict['veg']:\n",
    "                    print(j)\n",
    "                    continue\n",
    "                else:\n",
    "                    result_dict[\"veg\"].append(j)\n",
    "    return result_dict"
   ]
  },
  {
   "cell_type": "code",
   "execution_count": 99,
   "id": "16075af2-b123-403a-8325-8eb21c71d01c",
   "metadata": {},
   "outputs": [
    {
     "name": "stdout",
     "output_type": "stream",
     "text": [
      "apple\n",
      "{'fruits': ['apple', 'oranges', 'pineapple'], 'veg': ['onion', 'tomato', 'potato', 'capsicum']}\n"
     ]
    }
   ],
   "source": [
    "print(updation(dict1,dict2))"
   ]
  },
  {
   "cell_type": "code",
   "execution_count": 142,
   "id": "6d790412-5e49-4c88-9d91-43eee135e6ff",
   "metadata": {},
   "outputs": [
    {
     "name": "stdout",
     "output_type": "stream",
     "text": [
      "{'chennai': 4, 'Bengaluru': 2, 'Delhi': 2, 'Mumbai': 3}\n"
     ]
    }
   ],
   "source": [
    "import random\n",
    "for i in dict3.keys():\n",
    "    dict3[i]=random.randint(1,4)\n",
    "print(dict3)"
   ]
  },
  {
   "cell_type": "code",
   "execution_count": 87,
   "id": "e01ed417-aba3-4e96-b9c9-f84033d03760",
   "metadata": {},
   "outputs": [],
   "source": [
    "dict3={'chennai':1,'Bengaluru':2,'Delhi':3,'Mumbai':4}"
   ]
  },
  {
   "cell_type": "code",
   "execution_count": 166,
   "id": "81dc76c7-f37c-418e-8699-803ef9d3d24a",
   "metadata": {},
   "outputs": [
    {
     "name": "stdout",
     "output_type": "stream",
     "text": [
      "{'chennai': 1, 'Bengaluru': 4, 'Delhi': 2, 'Mumbai': 3}\n"
     ]
    }
   ],
   "source": [
    "values=[1,2,3,4]\n",
    "shuffled_values = random.sample(values, len(values))\n",
    "for value,key in zip(shuffled_values,dict3.keys()):\n",
    "        dict3[key] = value\n",
    "print(dict3)"
   ]
  },
  {
   "cell_type": "code",
   "execution_count": null,
   "id": "663aa238-6839-4f14-af47-598974fe5804",
   "metadata": {},
   "outputs": [],
   "source": []
  },
  {
   "cell_type": "code",
   "execution_count": null,
   "id": "c34ed3f6-4fb3-4b07-8595-4753bcb2cd06",
   "metadata": {},
   "outputs": [],
   "source": []
  }
 ],
 "metadata": {
  "kernelspec": {
   "display_name": "Python 3 (ipykernel)",
   "language": "python",
   "name": "python3"
  },
  "language_info": {
   "codemirror_mode": {
    "name": "ipython",
    "version": 3
   },
   "file_extension": ".py",
   "mimetype": "text/x-python",
   "name": "python",
   "nbconvert_exporter": "python",
   "pygments_lexer": "ipython3",
   "version": "3.12.3"
  }
 },
 "nbformat": 4,
 "nbformat_minor": 5
}
