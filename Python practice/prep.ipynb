{
 "cells": [
  {
   "cell_type": "code",
   "execution_count": 1,
   "id": "f0755bfa-83a2-4d44-bfa6-8f6ba5468a80",
   "metadata": {},
   "outputs": [],
   "source": [
    "data=[1,2,3,-4,-5,0,6,7,-8,-9,10]"
   ]
  },
  {
   "cell_type": "code",
   "execution_count": 32,
   "id": "8c52ae85-675a-4cc8-93cc-d8a27dd59b21",
   "metadata": {},
   "outputs": [],
   "source": [
    "for i in data:\n",
    "    if i<0:\n",
    "        data.remove(i)\n",
    "    "
   ]
  },
  {
   "cell_type": "code",
   "execution_count": 33,
   "id": "fe00c0ff-c715-40bc-b9ef-716a0c7a7b86",
   "metadata": {},
   "outputs": [
    {
     "name": "stdout",
     "output_type": "stream",
     "text": [
      "[1, 2, 3, 0, 6, 7, 10]\n"
     ]
    }
   ],
   "source": [
    "print(data)"
   ]
  },
  {
   "cell_type": "code",
   "execution_count": null,
   "id": "5e8f9f04-3fb4-44ce-9b8a-f898d7790cc8",
   "metadata": {},
   "outputs": [],
   "source": []
  },
  {
   "cell_type": "code",
   "execution_count": null,
   "id": "a12970fb-9167-4041-b93f-70fdf98cf689",
   "metadata": {},
   "outputs": [],
   "source": []
  },
  {
   "cell_type": "code",
   "execution_count": null,
   "id": "6bb93a4c-2db9-442d-a9c2-2702adf86621",
   "metadata": {},
   "outputs": [],
   "source": []
  }
 ],
 "metadata": {
  "kernelspec": {
   "display_name": "Python 3 (ipykernel)",
   "language": "python",
   "name": "python3"
  },
  "language_info": {
   "codemirror_mode": {
    "name": "ipython",
    "version": 3
   },
   "file_extension": ".py",
   "mimetype": "text/x-python",
   "name": "python",
   "nbconvert_exporter": "python",
   "pygments_lexer": "ipython3",
   "version": "3.12.3"
  }
 },
 "nbformat": 4,
 "nbformat_minor": 5
}
