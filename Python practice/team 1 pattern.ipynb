{
 "cells": [
  {
   "cell_type": "code",
   "execution_count": 3,
   "id": "e07ddca0-73b2-4848-bc60-4878d91b1e1e",
   "metadata": {},
   "outputs": [
    {
     "name": "stdin",
     "output_type": "stream",
     "text": [
      "Give me a number i will print a Huge v of that many floors 20\n",
      "What character do you want me to print it using X\n"
     ]
    },
    {
     "name": "stdout",
     "output_type": "stream",
     "text": [
      "                    \n",
      "                   X\n",
      "                  XXX\n",
      "                 XXXXX\n",
      "                XXXXXXX\n",
      "               XXXXXXXXX\n",
      "              XXXXXXXXXXX\n",
      "             XXXXXXXXXXXXX\n",
      "            XXXXXXXXXXXXXXX\n",
      "           XXXXXXXXXXXXXXXXX\n",
      "          XXXXXXXXXXXXXXXXXXX\n",
      "         XXXXXXXXXXXXXXXXXXXXX\n",
      "        XXXXXXXXXXXXXXXXXXXXXXX\n",
      "       XXXXXXXXXXXXXXXXXXXXXXXXX\n",
      "      XXXXXXXXXXXXXXXXXXXXXXXXXXX\n",
      "     XXXXXXXXXXXXXXXXXXXXXXXXXXXXX\n",
      "    XXXXXXXXXXXXXXXXXXXXXXXXXXXXXXX\n",
      "   XXXXXXXXXXXXXXXXXXXXXXXXXXXXXXXXX\n",
      "  XXXXXXXXXXXXXXXXXXXXXXXXXXXXXXXXXXX\n",
      " XXXXXXXXXXXXXXXXXXXXXXXXXXXXXXXXXXXXX\n"
     ]
    }
   ],
   "source": [
    "num=int(input(\"Give me a number i will print a Huge v of that many floors\"))\n",
    "pat_char=input(\"What character do you want me to print it using\")\n",
    "\n",
    "for i in range(0,num):\n",
    "        print(' ' * (num - i) + f'{pat_char}' * (2 * i - 1))"
   ]
  },
  {
   "cell_type": "code",
   "execution_count": null,
   "id": "f64fad0e-8651-4791-bb04-e571d76afb2c",
   "metadata": {},
   "outputs": [],
   "source": []
  }
 ],
 "metadata": {
  "kernelspec": {
   "display_name": "Python 3 (ipykernel)",
   "language": "python",
   "name": "python3"
  },
  "language_info": {
   "codemirror_mode": {
    "name": "ipython",
    "version": 3
   },
   "file_extension": ".py",
   "mimetype": "text/x-python",
   "name": "python",
   "nbconvert_exporter": "python",
   "pygments_lexer": "ipython3",
   "version": "3.12.3"
  }
 },
 "nbformat": 4,
 "nbformat_minor": 5
}
