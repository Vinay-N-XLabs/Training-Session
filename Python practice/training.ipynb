{
 "cells": [
  {
   "cell_type": "code",
   "execution_count": 1,
   "id": "5787a2a6-e25a-499f-ba0c-4e42d100bd92",
   "metadata": {},
   "outputs": [
    {
     "name": "stdout",
     "output_type": "stream",
     "text": [
      "[1, 2, 3]\n"
     ]
    }
   ],
   "source": [
    "int_list =[1,2,3]\n",
    "print(int_list)"
   ]
  },
  {
   "cell_type": "code",
   "execution_count": 2,
   "id": "38cedce4-5bca-41aa-bb9f-c927212de32d",
   "metadata": {},
   "outputs": [],
   "source": [
    "int_list.append(4)"
   ]
  },
  {
   "cell_type": "code",
   "execution_count": 4,
   "id": "23e828c1-d5c4-4a80-8ca1-d39feefdeaa6",
   "metadata": {},
   "outputs": [
    {
     "name": "stdout",
     "output_type": "stream",
     "text": [
      "<class 'list'>\n"
     ]
    }
   ],
   "source": [
    "print(type(int_list))"
   ]
  },
  {
   "cell_type": "code",
   "execution_count": 5,
   "id": "f5cebfb9-6653-48ab-9fad-98d9dbbc6b77",
   "metadata": {},
   "outputs": [],
   "source": [
    "a=10"
   ]
  },
  {
   "cell_type": "code",
   "execution_count": 6,
   "id": "1486ddc7-1a30-490a-8977-aae13c8a1ded",
   "metadata": {},
   "outputs": [
    {
     "name": "stdout",
     "output_type": "stream",
     "text": [
      "<class 'int'>\n"
     ]
    }
   ],
   "source": [
    "print(type(a))"
   ]
  },
  {
   "cell_type": "code",
   "execution_count": 7,
   "id": "5c29b793-ea00-414e-9aec-a9e6ef42325c",
   "metadata": {},
   "outputs": [],
   "source": [
    "str_list=[\"Ryan Reynolds\",\"Vijay\",\"Ajith\"]"
   ]
  },
  {
   "cell_type": "code",
   "execution_count": 9,
   "id": "ca11dfaf-cc6a-48ee-b157-f4ee304d5c06",
   "metadata": {},
   "outputs": [],
   "source": [
    "data=[1,2,3,['a','b','c'],4,5]"
   ]
  },
  {
   "cell_type": "code",
   "execution_count": 10,
   "id": "76f30bc2-c03e-41cb-95b1-f9a074669748",
   "metadata": {},
   "outputs": [
    {
     "name": "stdout",
     "output_type": "stream",
     "text": [
      "a\n"
     ]
    }
   ],
   "source": [
    "print(data[3][0])"
   ]
  },
  {
   "cell_type": "code",
   "execution_count": null,
   "id": "2d33b330-0cba-4c9b-bddd-1709721438f6",
   "metadata": {},
   "outputs": [],
   "source": []
  }
 ],
 "metadata": {
  "kernelspec": {
   "display_name": "Python 3 (ipykernel)",
   "language": "python",
   "name": "python3"
  },
  "language_info": {
   "codemirror_mode": {
    "name": "ipython",
    "version": 3
   },
   "file_extension": ".py",
   "mimetype": "text/x-python",
   "name": "python",
   "nbconvert_exporter": "python",
   "pygments_lexer": "ipython3",
   "version": "3.12.3"
  }
 },
 "nbformat": 4,
 "nbformat_minor": 5
}
