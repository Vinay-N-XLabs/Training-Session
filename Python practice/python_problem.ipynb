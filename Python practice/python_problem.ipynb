{
 "cells": [
  {
   "cell_type": "code",
   "execution_count": 8,
   "id": "c4f7ecd5-f7f5-43f1-b582-cfce324b0098",
   "metadata": {},
   "outputs": [],
   "source": [
    "data=[1,2,3,-4,-5,0,6,7,-8,-9,10]"
   ]
  },
  {
   "cell_type": "code",
   "execution_count": 9,
   "id": "9b6c26b8-6086-47f0-89bf-c4cefac2d7b5",
   "metadata": {},
   "outputs": [],
   "source": [
    "for i in data:\n",
    "    if i > 0 :\n",
    "        continue;\n",
    "    if i<0:\n",
    "        data.remove(i)\n"
   ]
  },
  {
   "cell_type": "code",
   "execution_count": 10,
   "id": "9a3b1346-aef4-4846-9f39-93cc31fccf89",
   "metadata": {},
   "outputs": [
    {
     "name": "stdout",
     "output_type": "stream",
     "text": [
      "\n"
     ]
    }
   ],
   "source": [
    "print()"
   ]
  },
  {
   "cell_type": "code",
   "execution_count": null,
   "id": "8dc190c3-9542-43d4-a6e1-67b68d8084de",
   "metadata": {},
   "outputs": [],
   "source": []
  }
 ],
 "metadata": {
  "kernelspec": {
   "display_name": "Python 3 (ipykernel)",
   "language": "python",
   "name": "python3"
  },
  "language_info": {
   "codemirror_mode": {
    "name": "ipython",
    "version": 3
   },
   "file_extension": ".py",
   "mimetype": "text/x-python",
   "name": "python",
   "nbconvert_exporter": "python",
   "pygments_lexer": "ipython3",
   "version": "3.12.3"
  }
 },
 "nbformat": 4,
 "nbformat_minor": 5
}
