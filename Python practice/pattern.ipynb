{
 "cells": [
  {
   "cell_type": "code",
   "execution_count": 1,
   "id": "deb55a38-a233-4185-84d2-979e9db9aa89",
   "metadata": {},
   "outputs": [],
   "source": [
    "#to print a large V"
   ]
  },
  {
   "cell_type": "code",
   "execution_count": 5,
   "id": "1e3752be-6df8-4fc3-9de8-aab8e8f6b386",
   "metadata": {},
   "outputs": [
    {
     "name": "stdin",
     "output_type": "stream",
     "text": [
      "Give me a number i will print a Huge v of that many floors 10\n"
     ]
    }
   ],
   "source": [
    "num=int(input(\"Give me a number i will print a Huge v of that many floors\"))"
   ]
  },
  {
   "cell_type": "code",
   "execution_count": 18,
   "id": "83ce318b-8f1f-4080-bb0e-4c1b3bf5703a",
   "metadata": {},
   "outputs": [
    {
     "name": "stdout",
     "output_type": "stream",
     "text": [
      "\n",
      "* \n",
      "* * \n",
      "* * * \n",
      "* * * * \n",
      "* * * * * \n",
      "* * * * * * \n",
      "* * * * * * * \n",
      "* * * * * * * * \n",
      "* * * * * * * * * \n"
     ]
    }
   ],
   "source": [
    "#right angle triangle\n",
    "for i in range(0,num):\n",
    "    for j in range (0,i):\n",
    "        print(\"*\",end=\" \")\n",
    "    print()"
   ]
  },
  {
   "cell_type": "code",
   "execution_count": null,
   "id": "8a04533f-1e8b-4bc7-bbf7-47d7a4c86df0",
   "metadata": {},
   "outputs": [],
   "source": [
    "num"
   ]
  },
  {
   "cell_type": "code",
   "execution_count": 48,
   "id": "36deb157-ef76-4380-a42b-0d71a94a7482",
   "metadata": {},
   "outputs": [
    {
     "name": "stdout",
     "output_type": "stream",
     "text": [
      "* * * * * * * * * * \n",
      "  * * * * * * * * * \n",
      "    * * * * * * * * \n",
      "      * * * * * * * \n",
      "        * * * * * * \n",
      "          * * * * * \n",
      "            * * * * \n",
      "              * * * \n",
      "                * * \n",
      "                  * \n"
     ]
    }
   ],
   "source": [
    "#inverted right angle triangle\n",
    "num = 10\n",
    "while num > 0:\n",
    "    for i in range(10 - num):\n",
    "        print(' ', end=' ')\n",
    "    for j in range(num):\n",
    "        print('*', end=' ')\n",
    "    print()\n",
    "    num -= 1\n",
    "\n",
    "        \n",
    "    "
   ]
  },
  {
   "cell_type": "code",
   "execution_count": 53,
   "id": "606927fc-8da3-4c07-8656-09b96e8016ed",
   "metadata": {},
   "outputs": [
    {
     "name": "stdin",
     "output_type": "stream",
     "text": [
      "Give me a number i will print a Huge v of that many floors 10\n"
     ]
    },
    {
     "name": "stdout",
     "output_type": "stream",
     "text": [
      "*******************\n",
      " *****************\n",
      "  ***************\n",
      "   *************\n",
      "    ***********\n",
      "     *********\n",
      "      *******\n",
      "       *****\n",
      "        ***\n",
      "         *\n"
     ]
    }
   ],
   "source": [
    "num=int(input(\"Give me a number i will print a Huge v of that many floors\"))\n",
    "for i in range(num, 0, -1):\n",
    "        print(' ' * (num - i) + '*' * (2 * i - 1))"
   ]
  },
  {
   "cell_type": "code",
   "execution_count": 57,
   "id": "98a99692-8159-45b4-9328-5aab4c63f7e4",
   "metadata": {},
   "outputs": [
    {
     "name": "stdin",
     "output_type": "stream",
     "text": [
      "Give me a number i will print a Huge v of that many floors 20\n"
     ]
    },
    {
     "name": "stdout",
     "output_type": "stream",
     "text": [
      "*                                     *\n",
      " *                                   *\n",
      "  *                                 *\n",
      "   *                               *\n",
      "    *                             *\n",
      "     *                           *\n",
      "      *                         *\n",
      "       *                       *\n",
      "        *                     *\n",
      "         *                   *\n",
      "          *                 *\n",
      "           *               *\n",
      "            *             *\n",
      "             *           *\n",
      "              *         *\n",
      "               *       *\n",
      "                *     *\n",
      "                 *   *\n",
      "                  * *\n",
      "                   *\n"
     ]
    }
   ],
   "source": [
    "num=int(input(\"Give me a number i will print a Huge v of that many floors\"))\n",
    "for i in range(num):\n",
    "        for j in range(i):\n",
    "            print(\" \", end=\"\")\n",
    "        print(\"*\", end=\"\")\n",
    "        for k in range((num - i - 1) * 2 - 1):\n",
    "            print(\" \", end=\"\")\n",
    "        if i < num - 1:\n",
    "            print(\"*\", end=\"\")\n",
    "        print()\n"
   ]
  },
  {
   "cell_type": "code",
   "execution_count": 65,
   "id": "c18fd35b-665f-4ba5-bd6c-d378323c22a8",
   "metadata": {},
   "outputs": [
    {
     "name": "stdin",
     "output_type": "stream",
     "text": [
      "Give me a number i will print a Huge v of that many floors 10\n"
     ]
    },
    {
     "name": "stdout",
     "output_type": "stream",
     "text": [
      "********************\n",
      " *****************  \n",
      "* *************** * \n",
      "** ************* ** \n",
      "*** *********** *** \n",
      "**** ********* **** \n",
      "***** ******* ***** \n",
      "****** ***** ****** \n",
      "******* *** ******* \n",
      "******** * ******** \n",
      "********* ********* \n"
     ]
    }
   ],
   "source": [
    "num=int(input(\"Give me a number i will print a Huge v of that many floors\"))\n",
    "for i in range(num):\n",
    "        if i==0 :\n",
    "            for m in range(2*num):\n",
    "                print(\"*\",end=\"\")\n",
    "            print()\n",
    "        for j in range(i):\n",
    "            print(\"*\", end=\"\")\n",
    "        print(\" \", end=\"\")\n",
    "        for k in range((num - i - 1) * 2 - 1):\n",
    "            print(\"*\", end=\"\")\n",
    "        if i < num - 1:\n",
    "            print(\" \", end=\"\")\n",
    "        for j in range(i):\n",
    "            print(\"*\", end=\"\")\n",
    "        print(\" \", end=\"\")\n",
    "        \n",
    "        \n",
    "        print()\n"
   ]
  },
  {
   "cell_type": "code",
   "execution_count": null,
   "id": "4d37deed-8858-44fc-b61b-cecde342bb64",
   "metadata": {},
   "outputs": [],
   "source": []
  }
 ],
 "metadata": {
  "kernelspec": {
   "display_name": "Python 3 (ipykernel)",
   "language": "python",
   "name": "python3"
  },
  "language_info": {
   "codemirror_mode": {
    "name": "ipython",
    "version": 3
   },
   "file_extension": ".py",
   "mimetype": "text/x-python",
   "name": "python",
   "nbconvert_exporter": "python",
   "pygments_lexer": "ipython3",
   "version": "3.12.3"
  }
 },
 "nbformat": 4,
 "nbformat_minor": 5
}
