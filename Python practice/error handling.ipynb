{
 "cells": [
  {
   "cell_type": "code",
   "execution_count": 1,
   "id": "5609201a-7352-42ad-9d9a-a55600f49924",
   "metadata": {},
   "outputs": [],
   "source": [
    "#error handling"
   ]
  },
  {
   "cell_type": "code",
   "execution_count": 25,
   "id": "e7a02efe-2ba9-43ac-a698-050831173ac5",
   "metadata": {},
   "outputs": [
    {
     "name": "stdout",
     "output_type": "stream",
     "text": [
      "Error : division by zero\n",
      "Finally part\n"
     ]
    }
   ],
   "source": [
    "try:\n",
    "    10/0\n",
    "    raise Exception(\"Sorry Bud cant divide by zero\")\n",
    "except Exception as e:\n",
    "    print(\"Error :\",e)\n",
    "    \n",
    "finally:\n",
    "    print(\"Finally part\")"
   ]
  },
  {
   "cell_type": "code",
   "execution_count": null,
   "id": "f876ac34-535e-4759-be1b-9ffd9b99bbad",
   "metadata": {},
   "outputs": [],
   "source": []
  }
 ],
 "metadata": {
  "kernelspec": {
   "display_name": "Python 3 (ipykernel)",
   "language": "python",
   "name": "python3"
  },
  "language_info": {
   "codemirror_mode": {
    "name": "ipython",
    "version": 3
   },
   "file_extension": ".py",
   "mimetype": "text/x-python",
   "name": "python",
   "nbconvert_exporter": "python",
   "pygments_lexer": "ipython3",
   "version": "3.12.3"
  }
 },
 "nbformat": 4,
 "nbformat_minor": 5
}
