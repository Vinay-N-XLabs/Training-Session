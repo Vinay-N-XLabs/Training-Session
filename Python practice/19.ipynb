{
 "cells": [
  {
   "cell_type": "code",
   "execution_count": 10,
   "id": "e1dcfc7a-09aa-45e7-935b-5ac41324f6d9",
   "metadata": {},
   "outputs": [],
   "source": [
    "data_a=[1,2,3,-4,-5,0,6,7,-8,-9,10]\n"
   ]
  },
  {
   "cell_type": "code",
   "execution_count": 11,
   "id": "1a8d94fd-9c3d-40dc-8079-ef32953aca67",
   "metadata": {},
   "outputs": [
    {
     "data": {
      "text/plain": [
       "[1, 2, 3, -4, -5, 0, 6, 7, -8, -9, 10]"
      ]
     },
     "execution_count": 11,
     "metadata": {},
     "output_type": "execute_result"
    }
   ],
   "source": [
    "data_a"
   ]
  },
  {
   "cell_type": "code",
   "execution_count": 14,
   "id": "9142ba79-1c2e-439c-ba93-9e692a6e488f",
   "metadata": {},
   "outputs": [],
   "source": [
    "i=0\n",
    "for i in range (0,len(data_a)-1):\n",
    "    if data_a[i] <0:\n",
    "        data_a.remove(data_a[i])"
   ]
  },
  {
   "cell_type": "code",
   "execution_count": 15,
   "id": "8ae98c12-e104-40c2-9155-7aa32ca6ea4e",
   "metadata": {},
   "outputs": [
    {
     "data": {
      "text/plain": [
       "[1, 2, 3, 0, 6, 7, 10]"
      ]
     },
     "execution_count": 15,
     "metadata": {},
     "output_type": "execute_result"
    }
   ],
   "source": [
    "data_a"
   ]
  },
  {
   "cell_type": "code",
   "execution_count": 16,
   "id": "9a0976b8-7c02-4062-b123-330f8ce3e8cb",
   "metadata": {},
   "outputs": [],
   "source": [
    "seta={'a','b','c'}"
   ]
  },
  {
   "cell_type": "code",
   "execution_count": 17,
   "id": "5577d09b-1548-4ea3-a0a3-7fbf7f371fcb",
   "metadata": {},
   "outputs": [],
   "source": [
    "seta.add(\"meh\")"
   ]
  },
  {
   "cell_type": "code",
   "execution_count": 18,
   "id": "e520dee5-7ad5-4ef8-b471-fc53d858cd88",
   "metadata": {},
   "outputs": [
    {
     "data": {
      "text/plain": [
       "{'a', 'b', 'c', 'meh'}"
      ]
     },
     "execution_count": 18,
     "metadata": {},
     "output_type": "execute_result"
    }
   ],
   "source": [
    "seta"
   ]
  },
  {
   "cell_type": "code",
   "execution_count": 19,
   "id": "b9e10537-8d4a-4238-8b93-d5e3ef6d2dde",
   "metadata": {},
   "outputs": [],
   "source": [
    "seta.add('man')"
   ]
  },
  {
   "cell_type": "code",
   "execution_count": 20,
   "id": "96c58c00-1655-4e08-ba3c-9bc52383dc87",
   "metadata": {},
   "outputs": [
    {
     "data": {
      "text/plain": [
       "{'a', 'b', 'c', 'man', 'meh'}"
      ]
     },
     "execution_count": 20,
     "metadata": {},
     "output_type": "execute_result"
    }
   ],
   "source": [
    "seta"
   ]
  },
  {
   "cell_type": "code",
   "execution_count": 21,
   "id": "b488666a-cbfd-4488-ba17-ef9abeff5f77",
   "metadata": {},
   "outputs": [],
   "source": [
    "seta.update('man')"
   ]
  },
  {
   "cell_type": "code",
   "execution_count": 22,
   "id": "3b1b9819-d2eb-4cef-b9cb-f06db8635507",
   "metadata": {},
   "outputs": [
    {
     "data": {
      "text/plain": [
       "{'a', 'b', 'c', 'm', 'man', 'meh', 'n'}"
      ]
     },
     "execution_count": 22,
     "metadata": {},
     "output_type": "execute_result"
    }
   ],
   "source": [
    "seta"
   ]
  },
  {
   "cell_type": "code",
   "execution_count": null,
   "id": "d12aa4fb-3d28-4866-b1de-3ec31387c2fd",
   "metadata": {},
   "outputs": [],
   "source": []
  }
 ],
 "metadata": {
  "kernelspec": {
   "display_name": "Python 3 (ipykernel)",
   "language": "python",
   "name": "python3"
  },
  "language_info": {
   "codemirror_mode": {
    "name": "ipython",
    "version": 3
   },
   "file_extension": ".py",
   "mimetype": "text/x-python",
   "name": "python",
   "nbconvert_exporter": "python",
   "pygments_lexer": "ipython3",
   "version": "3.12.3"
  }
 },
 "nbformat": 4,
 "nbformat_minor": 5
}
