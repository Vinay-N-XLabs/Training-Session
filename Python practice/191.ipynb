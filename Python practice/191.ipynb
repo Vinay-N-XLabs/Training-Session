{
 "cells": [
  {
   "cell_type": "code",
   "execution_count": 19,
   "id": "26ef4fd7-243a-49d8-adc5-bc3ead60b09a",
   "metadata": {},
   "outputs": [],
   "source": [
    "data=[1,2,3,-4,-5,0,6,7,-8,-9,10]\n"
   ]
  },
  {
   "cell_type": "code",
   "execution_count": 20,
   "id": "afce681f-6109-4f56-9d4d-8092e95d1504",
   "metadata": {},
   "outputs": [
    {
     "data": {
      "text/plain": [
       "[1, 2, 3, -4, -5, 0, 6, 7, -8, -9, 10]"
      ]
     },
     "execution_count": 20,
     "metadata": {},
     "output_type": "execute_result"
    }
   ],
   "source": [
    "data"
   ]
  },
  {
   "cell_type": "code",
   "execution_count": 24,
   "id": "fa45a4a8-29af-4353-adda-89ab2d854b62",
   "metadata": {},
   "outputs": [],
   "source": [
    "i=0\n",
    "for i in range (0,len(data)-1):\n",
    "    data[i]=int(data[i])"
   ]
  },
  {
   "cell_type": "code",
   "execution_count": 25,
   "id": "39b4524d-2938-43d0-8dd2-9870725bbf4a",
   "metadata": {},
   "outputs": [
    {
     "name": "stdout",
     "output_type": "stream",
     "text": [
      "[1, 2, 3, 0, 6, 7, 10]\n"
     ]
    }
   ],
   "source": [
    "print(data)"
   ]
  },
  {
   "cell_type": "code",
   "execution_count": null,
   "id": "708fd466-edc9-4976-a5fc-7ee2efbe95a9",
   "metadata": {},
   "outputs": [],
   "source": []
  }
 ],
 "metadata": {
  "kernelspec": {
   "display_name": "Python 3 (ipykernel)",
   "language": "python",
   "name": "python3"
  },
  "language_info": {
   "codemirror_mode": {
    "name": "ipython",
    "version": 3
   },
   "file_extension": ".py",
   "mimetype": "text/x-python",
   "name": "python",
   "nbconvert_exporter": "python",
   "pygments_lexer": "ipython3",
   "version": "3.12.3"
  }
 },
 "nbformat": 4,
 "nbformat_minor": 5
}
