{
 "cells": [
  {
   "cell_type": "code",
   "execution_count": 32,
   "id": "868dfe9c-c432-470b-9286-ba3dae13d779",
   "metadata": {},
   "outputs": [
    {
     "name": "stdin",
     "output_type": "stream",
     "text": [
      "Enter month and year separated by a space:  12 2000\n"
     ]
    }
   ],
   "source": [
    "month, year = map(int, input(\"Enter month and year separated by a space: \").split())"
   ]
  },
  {
   "cell_type": "code",
   "execution_count": 20,
   "id": "82dcacf4-e6f3-471c-97c9-d61608279747",
   "metadata": {},
   "outputs": [],
   "source": [
    "from datetime import datetime, date, time, timedelta"
   ]
  },
  {
   "cell_type": "code",
   "execution_count": 33,
   "id": "9d7070f0-d1a7-4927-989a-a49a7a96aae3",
   "metadata": {},
   "outputs": [],
   "source": [
    "d=date(year,month,13)"
   ]
  },
  {
   "cell_type": "code",
   "execution_count": 36,
   "id": "65986178-4abb-4200-ac52-f33b42c5472c",
   "metadata": {},
   "outputs": [],
   "source": [
    "day_of_week = d.strftime(\"%A\")"
   ]
  },
  {
   "cell_type": "code",
   "execution_count": 37,
   "id": "403622e2-4960-44a0-87e8-5fa911380cca",
   "metadata": {},
   "outputs": [
    {
     "name": "stdout",
     "output_type": "stream",
     "text": [
      "The day of the week for 2000-12-13 is: Wednesday\n"
     ]
    }
   ],
   "source": [
    "print(f\"The day of the week for {d} is: {day_of_week}\")"
   ]
  },
  {
   "cell_type": "code",
   "execution_count": 38,
   "id": "e37e8254-3b12-4e99-9dc9-746ef9bc0888",
   "metadata": {},
   "outputs": [
    {
     "name": "stdout",
     "output_type": "stream",
     "text": [
      "Bro its Wednesday on 2000-12-13\n"
     ]
    }
   ],
   "source": [
    "if day_of_week == \"Friday\":\n",
    "    print(\"Yes bro this months 13 th is Friday\")\n",
    "else:\n",
    "    print(f\"Bro its {day_of_week} on {d}\")"
   ]
  },
  {
   "cell_type": "code",
   "execution_count": 39,
   "id": "0c2ed1ae-7dfc-4087-8ad3-f70ab982682e",
   "metadata": {},
   "outputs": [
    {
     "name": "stdout",
     "output_type": "stream",
     "text": [
      "Bro its Thursday on 2000-01-13\n",
      "Bro its Sunday on 2000-02-13\n",
      "Bro its Monday on 2000-03-13\n",
      "Bro its Thursday on 2000-04-13\n",
      "Bro its Saturday on 2000-05-13\n",
      "Bro its Tuesday on 2000-06-13\n",
      "Bro its Thursday on 2000-07-13\n",
      "Bro its Sunday on 2000-08-13\n",
      "Bro its Wednesday on 2000-09-13\n",
      "Yes bro this months 13 th is Friday \n",
      "Bro its Monday on 2000-11-13\n",
      "Bro its Wednesday on 2000-12-13\n"
     ]
    }
   ],
   "source": [
    "for i in range(1,13):\n",
    "    d=date(year,i,13)\n",
    "    day_of_week = d.strftime(\"%A\")\n",
    "    if day_of_week == \"Friday\":\n",
    "        print(\"Yes bro this months 13 th is Friday \")\n",
    "    else:\n",
    "        print(f\"Bro its {day_of_week} on {d}\")"
   ]
  },
  {
   "cell_type": "code",
   "execution_count": null,
   "id": "c06549bd-0f25-4359-a0df-b02c9bc4bae9",
   "metadata": {},
   "outputs": [],
   "source": []
  }
 ],
 "metadata": {
  "kernelspec": {
   "display_name": "Python 3 (ipykernel)",
   "language": "python",
   "name": "python3"
  },
  "language_info": {
   "codemirror_mode": {
    "name": "ipython",
    "version": 3
   },
   "file_extension": ".py",
   "mimetype": "text/x-python",
   "name": "python",
   "nbconvert_exporter": "python",
   "pygments_lexer": "ipython3",
   "version": "3.12.3"
  }
 },
 "nbformat": 4,
 "nbformat_minor": 5
}
